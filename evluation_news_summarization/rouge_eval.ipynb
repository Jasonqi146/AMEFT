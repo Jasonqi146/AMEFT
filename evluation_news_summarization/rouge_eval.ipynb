{
 "cells": [
  {
   "cell_type": "code",
   "execution_count": 21,
   "metadata": {},
   "outputs": [],
   "source": [
    "import evaluate\n",
    "import json"
   ]
  },
  {
   "cell_type": "code",
   "execution_count": 36,
   "metadata": {},
   "outputs": [],
   "source": [
    "rouge = evaluate.load('rouge')\n",
    "\n",
    "def get_rouge_score(file_path):\n",
    "    with open(file_path, 'r') as f:\n",
    "        data = json.load(f)\n",
    "        return rouge.compute(predictions=[item['model_output'].replace(\"\\n\", \"\") for item in data], references=[item['ground_true'] for item in data])"
   ]
  },
  {
   "cell_type": "code",
   "execution_count": 15,
   "metadata": {},
   "outputs": [
    {
     "data": {
      "text/plain": [
       "{'rouge1': 0.20958346678742876,\n",
       " 'rouge2': 0.11715377479678873,\n",
       " 'rougeL': 0.16140256760787436,\n",
       " 'rougeLsum': 0.16206232733739295}"
      ]
     },
     "execution_count": 15,
     "metadata": {},
     "output_type": "execute_result"
    }
   ],
   "source": [
    "# LoRA Mistral LoRA finetune results\n",
    "\n",
    "file_path = \"mistral_7b_instruct_v0.2_news_summarization_results.json\"\n",
    "# file_path = \"mistral_7b_instruct_v0.2_news_summarization_results.json\"\n",
    "with open(file_path, 'r') as f:\n",
    "    data = json.load(f)\n",
    "rouge.compute(predictions=[item['model_output'] for item in data], references=[item['ground_true'] for item in data])"
   ]
  },
  {
   "cell_type": "code",
   "execution_count": 16,
   "metadata": {},
   "outputs": [
    {
     "data": {
      "text/plain": [
       "{'rouge1': 0.04817328057208635,\n",
       " 'rouge2': 0.01305042485504886,\n",
       " 'rougeL': 0.032889576670004125,\n",
       " 'rougeLsum': 0.03289812551992201}"
      ]
     },
     "execution_count": 16,
     "metadata": {},
     "output_type": "execute_result"
    }
   ],
   "source": [
    "# Llama_7b LoRA finetune results\n",
    "\n",
    "file_path = \"llama_7b_news_summarization_results.json\"\n",
    "# file_path = \"mistral_7b_instruct_v0.2_news_summarization_results.json\"\n",
    "with open(file_path, 'r') as f:\n",
    "    data = json.load(f)\n",
    "rouge.compute(predictions=[item['model_output'] for item in data], references=[item['ground_true'] for item in data])"
   ]
  },
  {
   "cell_type": "code",
   "execution_count": 37,
   "metadata": {},
   "outputs": [
    {
     "data": {
      "text/plain": [
       "{'rouge1': 0.2771286369451458,\n",
       " 'rouge2': 0.10493167975029782,\n",
       " 'rougeL': 0.18555813440985752,\n",
       " 'rougeLsum': 0.18582209295746654}"
      ]
     },
     "execution_count": 37,
     "metadata": {},
     "output_type": "execute_result"
    }
   ],
   "source": [
    "# Llama_3_8b without LoRA finetune results\n",
    "\n",
    "file_path = \"new_llama_3_8b_without_lora_zero_shot_news_summarization_results.json\"\n",
    "get_rouge_score(file_path)"
   ]
  },
  {
   "cell_type": "code",
   "execution_count": 39,
   "metadata": {},
   "outputs": [
    {
     "data": {
      "text/plain": [
       "{'rouge1': 0.5070601732350681,\n",
       " 'rouge2': 0.35611569056585834,\n",
       " 'rougeL': 0.4358966282243678,\n",
       " 'rougeLsum': 0.4336126270719884}"
      ]
     },
     "execution_count": 39,
     "metadata": {},
     "output_type": "execute_result"
    }
   ],
   "source": [
    "# Llama_3_8b with LoRA finetune results\n",
    "file_path = \"new_llama_3_8b_with_lora_zero_shot_news_summarization_results.json\"\n",
    "get_rouge_score(file_path)\n"
   ]
  },
  {
   "cell_type": "code",
   "execution_count": null,
   "metadata": {},
   "outputs": [],
   "source": [
    "\"\""
   ]
  }
 ],
 "metadata": {
  "kernelspec": {
   "display_name": "llm_personality",
   "language": "python",
   "name": "python3"
  },
  "language_info": {
   "codemirror_mode": {
    "name": "ipython",
    "version": 3
   },
   "file_extension": ".py",
   "mimetype": "text/x-python",
   "name": "python",
   "nbconvert_exporter": "python",
   "pygments_lexer": "ipython3",
   "version": "3.10.13"
  }
 },
 "nbformat": 4,
 "nbformat_minor": 2
}
