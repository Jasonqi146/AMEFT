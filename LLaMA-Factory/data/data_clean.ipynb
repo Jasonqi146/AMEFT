{
 "cells": [
  {
   "cell_type": "code",
   "execution_count": 13,
   "metadata": {},
   "outputs": [],
   "source": [
    "import json\n",
    "import random"
   ]
  },
  {
   "cell_type": "code",
   "execution_count": 8,
   "metadata": {},
   "outputs": [],
   "source": [
    "file_path='pairwise_evaluation_results.json'\n",
    "with open(file_path, 'r') as file:\n",
    "# Parse the JSON file and convert it into a Python dictionary\n",
    "    data = json.load(file)"
   ]
  },
  {
   "cell_type": "code",
   "execution_count": 10,
   "metadata": {},
   "outputs": [],
   "source": [
    "clean_data = []\n",
    "for item in data:\n",
    "    current_dic = {}\n",
    "    current_dic['instruction'] = \"Summary this article.\"\n",
    "    current_dic['input'] = item['article_text']\n",
    "    current_dic['output'] = item['writer_summary']\n",
    "    clean_data.append(current_dic)"
   ]
  },
  {
   "cell_type": "code",
   "execution_count": 12,
   "metadata": {},
   "outputs": [],
   "source": [
    "with open('alpaca_news_summarization.json','w') as f:\n",
    "    json.dump(clean_data, f, indent=4)"
   ]
  },
  {
   "cell_type": "code",
   "execution_count": 17,
   "metadata": {},
   "outputs": [
    {
     "name": "stdout",
     "output_type": "stream",
     "text": [
      "All samples num: 599\n",
      "Training samples num: 539\n",
      "Test samples num: 60\n"
     ]
    }
   ],
   "source": [
    "random.shuffle(clean_data)\n",
    "\n",
    "total_samples = len(clean_data)\n",
    "train_samples = int(total_samples * 0.9)\n",
    "test_samples = total_samples - train_samples\n",
    "\n",
    "train_data = clean_data[:train_samples]\n",
    "test_data = clean_data[train_samples:]\n",
    "\n",
    "with open('alpaca_news_summarization_train.json', 'w') as file:\n",
    "    json.dump(train_data, file, indent=4)\n",
    "\n",
    "with open('alpaca_news_summarization_test.json', 'w') as file:\n",
    "    json.dump(test_data, file, indent=4)\n",
    "\n",
    "print(f\"All samples num: {total_samples}\")\n",
    "print(f\"Training samples num: {train_samples}\")\n",
    "print(f\"Test samples num: {test_samples}\")"
   ]
  },
  {
   "cell_type": "code",
   "execution_count": null,
   "metadata": {},
   "outputs": [],
   "source": []
  }
 ],
 "metadata": {
  "kernelspec": {
   "display_name": "llama_factory",
   "language": "python",
   "name": "python3"
  },
  "language_info": {
   "codemirror_mode": {
    "name": "ipython",
    "version": 3
   },
   "file_extension": ".py",
   "mimetype": "text/x-python",
   "name": "python",
   "nbconvert_exporter": "python",
   "pygments_lexer": "ipython3",
   "version": "3.10.13"
  }
 },
 "nbformat": 4,
 "nbformat_minor": 2
}
